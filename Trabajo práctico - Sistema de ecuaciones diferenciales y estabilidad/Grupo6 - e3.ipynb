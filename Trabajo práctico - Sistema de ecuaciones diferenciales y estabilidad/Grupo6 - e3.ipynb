{
 "cells": [
  {
   "cell_type": "code",
   "execution_count": null,
   "id": "56f9ee69-b155-4ed9-8478-517b1fdaba27",
   "metadata": {},
   "outputs": [],
   "source": []
  },
  {
   "cell_type": "markdown",
   "id": "8b8b75db-1752-4046-a586-da1a716a3590",
   "metadata": {},
   "source": [
    "# Título 1\n",
    "\n",
    "## Título 2\n",
    "\n",
    "Texto "
   ]
  },
  {
   "cell_type": "code",
   "execution_count": 2,
   "id": "719242b9-cf0c-4881-818c-571934f4f936",
   "metadata": {},
   "outputs": [
    {
     "name": "stdout",
     "output_type": "stream",
     "text": [
      "Hello dirty world\n"
     ]
    }
   ],
   "source": [
    "print(\"Hello dirty world\")"
   ]
  }
 ],
 "metadata": {
  "kernelspec": {
   "display_name": "Python 3 (ipykernel)",
   "language": "python",
   "name": "python3"
  },
  "language_info": {
   "codemirror_mode": {
    "name": "ipython",
    "version": 3
   },
   "file_extension": ".py",
   "mimetype": "text/x-python",
   "name": "python",
   "nbconvert_exporter": "python",
   "pygments_lexer": "ipython3",
   "version": "3.13.5"
  }
 },
 "nbformat": 4,
 "nbformat_minor": 5
}
