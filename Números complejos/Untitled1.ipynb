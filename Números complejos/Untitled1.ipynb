{
  "nbformat": 4,
  "nbformat_minor": 0,
  "metadata": {
    "colab": {
      "provenance": []
    },
    "kernelspec": {
      "name": "python3",
      "display_name": "Python 3"
    },
    "language_info": {
      "name": "python"
    }
  },
  "cells": [
    {
      "cell_type": "markdown",
      "source": [
        "Actividad 1"
      ],
      "metadata": {
        "id": "u-r7luttdmxY"
      }
    },
    {
      "cell_type": "code",
      "source": [
        "import re\n",
        "\n",
        "def leer_complejo():\n",
        "    entrada = input(\"Ingrese un número complejo : \").replace(\" \", \"\")\n",
        "\n",
        "    # Reemplazar 'i' por 'j' porque Python usa 'j'\n",
        "    entrada = entrada.replace(\"i\", \"j\")\n",
        "\n",
        "    try:\n",
        "        # Intentamos convertir directamente\n",
        "        z = complex(entrada)\n",
        "    except ValueError:\n",
        "        # Si falla, intentamos interpretar casos especiales\n",
        "        if entrada.endswith(\"j\") and (entrada[:-1] == \"\" or entrada[:-1] in [\"+\", \"-\"]):\n",
        "            # Caso: \"i\", \"+i\", \"-i\"\n",
        "            z = complex(entrada.replace(\"j\", \"1j\"))\n",
        "        else:\n",
        "            raise ValueError(\"Formato no válido. Ejemplo válido: 3+4i\")\n",
        "\n",
        "    return z\n",
        "\n",
        "# Programa principal\n",
        "z = leer_complejo()\n",
        "\n",
        "# Parte real e imaginaria\n",
        "parte_real = z.real\n",
        "parte_imaginaria = z.imag\n",
        "\n",
        "# Representación binómica (a + bi)\n",
        "if parte_imaginaria >= 0:\n",
        "    representacion_binomica = f\"{parte_real} + {parte_imaginaria}i\"\n",
        "else:\n",
        "    representacion_binomica = f\"{parte_real} - {abs(parte_imaginaria)}i\"\n",
        "\n",
        "# Mostrar resultados\n",
        "print(\"Parte real:\", parte_real)\n",
        "print(\"Parte imaginaria:\", parte_imaginaria)\n",
        "print(\"Representación binómica:\", representacion_binomica)\n"
      ],
      "metadata": {
        "colab": {
          "base_uri": "https://localhost:8080/"
        },
        "id": "nN6Xd3uoasV5",
        "outputId": "95511e2f-b629-411a-ef60-bc5ee4071401"
      },
      "execution_count": null,
      "outputs": [
        {
          "output_type": "stream",
          "name": "stdout",
          "text": [
            "Ingrese un número complejo : 2\n",
            "Parte real: 2.0\n",
            "Parte imaginaria: 0.0\n",
            "Representación binómica: 2.0 + 0.0i\n"
          ]
        }
      ]
    },
    {
      "cell_type": "markdown",
      "source": [
        "Actividad 2"
      ],
      "metadata": {
        "id": "IlynTwuGdtQh"
      }
    },
    {
      "cell_type": "code",
      "source": [
        "def mostrar_binomico(z):\n",
        "    \"\"\"Devuelve el número complejo en formato a + bi\"\"\"\n",
        "    a = z.real\n",
        "    b = z.imag\n",
        "    if b >= 0:\n",
        "        return f\"{a} + {b}i\"\n",
        "    else:\n",
        "        return f\"{a} - {abs(b)}i\"\n",
        "\n",
        "def operaciones_complejos(z1, z2):\n",
        "    suma = z1 + z2\n",
        "    resta = z1 - z2\n",
        "    producto = z1 * z2\n",
        "    cociente = z1 / z2 if z2 != 0 else None  # Evitar división por 0\n",
        "\n",
        "    print(\"Suma: \", mostrar_binomico(suma))\n",
        "    print(\"Resta:\", mostrar_binomico(resta))\n",
        "    print(\"Producto:\", mostrar_binomico(producto))\n",
        "    if cociente is not None:\n",
        "        print(\"Cociente:\", mostrar_binomico(cociente))\n",
        "    else:\n",
        "        print(\"Cociente: No definido (división por 0)\")\n",
        "\n",
        "# Programa principal\n",
        "print(\"Ingrese dos números complejos (ejemplo: 3+4j o 2-5j)\")\n",
        "z1 = complex(input(\"Primer número: \").replace(\"i\", \"j\"))\n",
        "z2 = complex(input(\"Segundo número: \").replace(\"i\", \"j\"))\n",
        "\n",
        "operaciones_complejos(z1, z2)\n"
      ],
      "metadata": {
        "colab": {
          "base_uri": "https://localhost:8080/"
        },
        "id": "7Mm06RbOd4XC",
        "outputId": "0d226df1-2614-4b21-98ce-316f7b126202"
      },
      "execution_count": null,
      "outputs": [
        {
          "output_type": "stream",
          "name": "stdout",
          "text": [
            "Ingrese dos números complejos (ejemplo: 3+4j o 2-5j)\n",
            "Primer número: 2+3i\n",
            "Segundo número: 4-5i\n",
            "Suma:  6.0 - 2.0i\n",
            "Resta: -2.0 + 8.0i\n",
            "Producto: 23.0 + 2.0i\n",
            "Cociente: -0.17073170731707318 + 0.5365853658536587i\n"
          ]
        }
      ]
    },
    {
      "cell_type": "markdown",
      "source": [
        "Actividad 3"
      ],
      "metadata": {
        "id": "l2PBgqW9eM9l"
      }
    },
    {
      "cell_type": "code",
      "source": [
        "def potencia_i(n):\n",
        "    # El resultado depende del resto de n dividido por 4\n",
        "    resto = n % 4\n",
        "    if resto == 0:\n",
        "        return \"1\"\n",
        "    elif resto == 1:\n",
        "        return \"i\"\n",
        "    elif resto == 2:\n",
        "        return \"-1\"\n",
        "    elif resto == 3:\n",
        "        return \"-i\"\n",
        "\n",
        "# Programa principal\n",
        "n = int(input(\"Ingrese un número entero n para calcular i^n: \"))\n",
        "resultado = potencia_i(n)\n",
        "print(f\"i^{n} = {resultado}\")"
      ],
      "metadata": {
        "colab": {
          "base_uri": "https://localhost:8080/"
        },
        "id": "cPPLZQlseUKU",
        "outputId": "fbe14f91-1d12-4222-a7a8-d1ae0329e2f5"
      },
      "execution_count": null,
      "outputs": [
        {
          "output_type": "stream",
          "name": "stdout",
          "text": [
            "Ingrese un número entero n para calcular i^n: 6\n",
            "i^6 = -1\n"
          ]
        }
      ]
    },
    {
      "cell_type": "markdown",
      "source": [
        "Actividad 4"
      ],
      "metadata": {
        "id": "XRwjUnJne7DE"
      }
    },
    {
      "cell_type": "code",
      "source": [
        "def mostrar_binomico(z):\n",
        "    \"\"\"Devuelve el número complejo en formato a + bi\"\"\"\n",
        "    a = z.real\n",
        "    b = z.imag\n",
        "    if b >= 0:\n",
        "        return f\"{a} + {b}i\"\n",
        "    else:\n",
        "        return f\"{a} - {abs(b)}i\"\n",
        "\n",
        "# Programa principal\n",
        "z = complex(input(\"Ingrese un número complejo (ejemplo: 3+4i): \").replace(\"i\", \"j\"))\n",
        "\n",
        "# Cálculo del módulo\n",
        "modulo = abs(z)\n",
        "\n",
        "# Conjugado\n",
        "conjugado = z.conjugate()\n",
        "\n",
        "# Verificación z * z̅ = |z|²\n",
        "producto = z * conjugado\n",
        "modulo_cuadrado = modulo**2\n",
        "\n",
        "# Resultados\n",
        "print(\"Número complejo:\", mostrar_binomico(z))\n",
        "print(\"Módulo: \", modulo)\n",
        "print(\"Conjugado:\", mostrar_binomico(conjugado))\n",
        "print(f\"z * z̅ = {producto}\")\n",
        "print(f\"|z|² = {modulo_cuadrado}\")\n",
        "\n",
        "if producto == modulo_cuadrado:\n",
        "    print(\"✅ Se verifica que z * z̅ = |z|²\")\n",
        "else:\n",
        "    print(\"❌ No se cumple la igualdad\")"
      ],
      "metadata": {
        "colab": {
          "base_uri": "https://localhost:8080/"
        },
        "id": "DNzjPn_mfAgD",
        "outputId": "c6743ed0-43a5-496e-b12a-fbdf9a961207"
      },
      "execution_count": null,
      "outputs": [
        {
          "output_type": "stream",
          "name": "stdout",
          "text": [
            "Ingrese un número complejo (ejemplo: 3+4i): 2+2i\n",
            "Número complejo: 2.0 + 2.0i\n",
            "Módulo:  2.8284271247461903\n",
            "Conjugado: 2.0 - 2.0i\n",
            "z * z̅ = (8+0j)\n",
            "|z|² = 8.000000000000002\n",
            "❌ No se cumple la igualdad\n"
          ]
        }
      ]
    }
  ]
}