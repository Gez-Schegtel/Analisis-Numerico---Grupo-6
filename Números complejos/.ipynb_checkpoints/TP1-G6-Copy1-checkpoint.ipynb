{
 "cells": [
  {
   "cell_type": "markdown",
   "metadata": {
    "id": "u-r7luttdmxY"
   },
   "source": [
    "Actividad 1"
   ]
  },
  {
   "cell_type": "code",
   "execution_count": null,
   "metadata": {
    "colab": {
     "base_uri": "https://localhost:8080/"
    },
    "id": "nN6Xd3uoasV5",
    "outputId": "95511e2f-b629-411a-ef60-bc5ee4071401"
   },
   "outputs": [
    {
     "name": "stdout",
     "output_type": "stream",
     "text": [
      "Ingrese un número complejo : 2\n",
      "Parte real: 2.0\n",
      "Parte imaginaria: 0.0\n",
      "Representación binómica: 2.0 + 0.0i\n"
     ]
    }
   ],
   "source": [
    "import re\n",
    "\n",
    "def leer_complejo():\n",
    "    entrada = input(\"Ingrese un número complejo : \").replace(\" \", \"\")\n",
    "\n",
    "    # Reemplazar 'i' por 'j' porque Python usa 'j'\n",
    "    entrada = entrada.replace(\"i\", \"j\")\n",
    "\n",
    "    try:\n",
    "        # Intentamos convertir directamente\n",
    "        z = complex(entrada)\n",
    "    except ValueError:\n",
    "        # Si falla, intentamos interpretar casos especiales\n",
    "        if entrada.endswith(\"j\") and (entrada[:-1] == \"\" or entrada[:-1] in [\"+\", \"-\"]):\n",
    "            # Caso: \"i\", \"+i\", \"-i\"\n",
    "            z = complex(entrada.replace(\"j\", \"1j\"))\n",
    "        else:\n",
    "            raise ValueError(\"Formato no válido. Ejemplo válido: 3+4i\")\n",
    "\n",
    "    return z\n",
    "\n",
    "# Programa principal\n",
    "z = leer_complejo()\n",
    "\n",
    "# Parte real e imaginaria\n",
    "parte_real = z.real\n",
    "parte_imaginaria = z.imag\n",
    "\n",
    "# Representación binómica (a + bi)\n",
    "if parte_imaginaria >= 0:\n",
    "    representacion_binomica = f\"{parte_real} + {parte_imaginaria}i\"\n",
    "else:\n",
    "    representacion_binomica = f\"{parte_real} - {abs(parte_imaginaria)}i\"\n",
    "\n",
    "# Mostrar resultados\n",
    "print(\"Parte real:\", parte_real)\n",
    "print(\"Parte imaginaria:\", parte_imaginaria)\n",
    "print(\"Representación binómica:\", representacion_binomica)\n"
   ]
  },
  {
   "cell_type": "markdown",
   "metadata": {
    "id": "IlynTwuGdtQh"
   },
   "source": [
    "Actividad 2"
   ]
  },
  {
   "cell_type": "code",
   "execution_count": null,
   "metadata": {
    "colab": {
     "base_uri": "https://localhost:8080/"
    },
    "id": "7Mm06RbOd4XC",
    "outputId": "0d226df1-2614-4b21-98ce-316f7b126202"
   },
   "outputs": [
    {
     "name": "stdout",
     "output_type": "stream",
     "text": [
      "Ingrese dos números complejos (ejemplo: 3+4j o 2-5j)\n",
      "Primer número: 2+3i\n",
      "Segundo número: 4-5i\n",
      "Suma:  6.0 - 2.0i\n",
      "Resta: -2.0 + 8.0i\n",
      "Producto: 23.0 + 2.0i\n",
      "Cociente: -0.17073170731707318 + 0.5365853658536587i\n"
     ]
    }
   ],
   "source": [
    "def mostrar_binomico(z):\n",
    "    \"\"\"Devuelve el número complejo en formato a + bi\"\"\"\n",
    "    a = z.real\n",
    "    b = z.imag\n",
    "    if b >= 0:\n",
    "        return f\"{a} + {b}i\"\n",
    "    else:\n",
    "        return f\"{a} - {abs(b)}i\"\n",
    "\n",
    "def operaciones_complejos(z1, z2):\n",
    "    suma = z1 + z2\n",
    "    resta = z1 - z2\n",
    "    producto = z1 * z2\n",
    "    cociente = z1 / z2 if z2 != 0 else None  # Evitar división por 0\n",
    "\n",
    "    print(\"Suma: \", mostrar_binomico(suma))\n",
    "    print(\"Resta:\", mostrar_binomico(resta))\n",
    "    print(\"Producto:\", mostrar_binomico(producto))\n",
    "    if cociente is not None:\n",
    "        print(\"Cociente:\", mostrar_binomico(cociente))\n",
    "    else:\n",
    "        print(\"Cociente: No definido (división por 0)\")\n",
    "\n",
    "# Programa principal\n",
    "print(\"Ingrese dos números complejos (ejemplo: 3+4j o 2-5j)\")\n",
    "z1 = complex(input(\"Primer número: \").replace(\"i\", \"j\"))\n",
    "z2 = complex(input(\"Segundo número: \").replace(\"i\", \"j\"))\n",
    "\n",
    "operaciones_complejos(z1, z2)\n"
   ]
  },
  {
   "cell_type": "markdown",
   "metadata": {
    "id": "l2PBgqW9eM9l"
   },
   "source": [
    "Actividad 3"
   ]
  },
  {
   "cell_type": "code",
   "execution_count": null,
   "metadata": {
    "colab": {
     "base_uri": "https://localhost:8080/"
    },
    "id": "cPPLZQlseUKU",
    "outputId": "fbe14f91-1d12-4222-a7a8-d1ae0329e2f5"
   },
   "outputs": [
    {
     "name": "stdout",
     "output_type": "stream",
     "text": [
      "Ingrese un número entero n para calcular i^n: 6\n",
      "i^6 = -1\n"
     ]
    }
   ],
   "source": [
    "def potencia_i(n):\n",
    "    # El resultado depende del resto de n dividido por 4\n",
    "    resto = n % 4\n",
    "    if resto == 0:\n",
    "        return \"1\"\n",
    "    elif resto == 1:\n",
    "        return \"i\"\n",
    "    elif resto == 2:\n",
    "        return \"-1\"\n",
    "    elif resto == 3:\n",
    "        return \"-i\"\n",
    "\n",
    "# Programa principal\n",
    "n = int(input(\"Ingrese un número entero n para calcular i^n: \"))\n",
    "resultado = potencia_i(n)\n",
    "print(f\"i^{n} = {resultado}\")"
   ]
  },
  {
   "cell_type": "markdown",
   "metadata": {
    "id": "XRwjUnJne7DE"
   },
   "source": [
    "Actividad 4"
   ]
  },
  {
   "cell_type": "code",
   "execution_count": null,
   "metadata": {
    "colab": {
     "base_uri": "https://localhost:8080/"
    },
    "id": "DNzjPn_mfAgD",
    "outputId": "c6743ed0-43a5-496e-b12a-fbdf9a961207"
   },
   "outputs": [
    {
     "name": "stdout",
     "output_type": "stream",
     "text": [
      "Ingrese un número complejo (ejemplo: 3+4i): 2+2i\n",
      "Número complejo: 2.0 + 2.0i\n",
      "Módulo:  2.8284271247461903\n",
      "Conjugado: 2.0 - 2.0i\n",
      "z * z̅ = (8+0j)\n",
      "|z|² = 8.000000000000002\n",
      "❌ No se cumple la igualdad\n"
     ]
    }
   ],
   "source": [
    "def mostrar_binomico(z):\n",
    "    \"\"\"Devuelve el número complejo en formato a + bi\"\"\"\n",
    "    a = z.real\n",
    "    b = z.imag\n",
    "    if b >= 0:\n",
    "        return f\"{a} + {b}i\"\n",
    "    else:\n",
    "        return f\"{a} - {abs(b)}i\"\n",
    "\n",
    "# Programa principal\n",
    "z = complex(input(\"Ingrese un número complejo (ejemplo: 3+4i): \").replace(\"i\", \"j\"))\n",
    "\n",
    "# Cálculo del módulo\n",
    "modulo = abs(z)\n",
    "\n",
    "# Conjugado\n",
    "conjugado = z.conjugate()\n",
    "\n",
    "# Verificación z * z̅ = |z|²\n",
    "producto = z * conjugado\n",
    "modulo_cuadrado = modulo**2\n",
    "\n",
    "# Resultados\n",
    "print(\"Número complejo:\", mostrar_binomico(z))\n",
    "print(\"Módulo: \", modulo)\n",
    "print(\"Conjugado:\", mostrar_binomico(conjugado))\n",
    "print(f\"z * z̅ = {producto}\")\n",
    "print(f\"|z|² = {modulo_cuadrado}\")\n",
    "\n",
    "if producto == modulo_cuadrado:\n",
    "    print(\"✅ Se verifica que z * z̅ = |z|²\")\n",
    "else:\n",
    "    print(\"❌ No se cumple la igualdad\")"
   ]
  },
  {
   "cell_type": "markdown",
   "id": "8043fa15",
   "metadata": {},
   "source": [
    "markdown\n",
    "# Practica N° 1: Números complejos\n",
    "## Análisis Numérico\n",
    "\n",
    "### Objetivos\n",
    "- Aplicar conceptos de números complejos mediante su implementación en Python.\n",
    "- Desarrollar habilidades en la representación, operaciones y transformaciones de números complejos usando herramientas computacionales.\n",
    "- Familiarizarse con el uso de librerías estándar de Python como `cmath`, `matplotlib` y `numpy`.\n",
    "\n",
    "**Tipo de actividad:** grupal.\n",
    "\n",
    "### Formato de entrega:\n",
    "1. Resolvé las actividades propuestas utilizando un cuaderno Jupyter.\n",
    "2. Asegurate de comentar el código con explicaciones claras que permitan comprender cada paso de la resolución.\n",
    "3. Una vez finalizada la práctica, deberán crear un documento complementario que incluya:\n",
    "    a. Nombre de la actividad.\n",
    "    b. Datos completos del grupo (nombres y apellidos de los integrantes).\n",
    "    c. Enlace al cuaderno compartido (asegurarse de que el acceso esté habilitado).\n",
    "4. Subí el documento complementario en la tarea \"Práctica N.º 1: Números complejos\" disponible en el aula virtual.\n",
    "\n",
    "### Actividad 1\n",
    "**Representación binómica y partes de un complejo**\n",
    "\n",
    "Escribir un programa que, dado un número complejo z = a + bi, muestre:\n",
    "- Parte real.\n",
    "- Parte imaginaria.\n",
    "- Representación binómica.\n",
    "\n",
    "### Actividad 2\n",
    "**Operaciones básicas**\n",
    "\n",
    "Crear una función que reciba dos números complejos y devuelva:\n",
    "- Suma\n",
    "- Resta\n",
    "- Producto\n",
    "- Cociente\n",
    "\n",
    "Mostrar los resultados en consola con formato a + bi.\n",
    "\n",
    "### Actividad 3\n",
    "**Potencias de i**\n",
    "\n",
    "Construir una función que calcule 𝑖 𝑛 para un valor entero n ingresado por el usuario. Mostrar el resultado simplificado.\n",
    "\n",
    "### Actividad 4\n",
    "**Módulo y conjugado**\n",
    "\n",
    "Dado un número complejo z, calcular:\n",
    "- Su módulo.\n",
    "- Su conjugado.\n",
    "- Verificar que `z * z̄ = |z|²`.\n",
    "\n",
    "### Actividad 5\n",
    "**División entre números complejos**\n",
    "\n",
    "Implementar una función que divida dos números complejos sin usar el operador '/', utilizando la fórmula de conjugado y módulo.\n",
    "\n",
    "### Actividad 6\n",
    "**Forma polar y trigonométrica**\n",
    "\n",
    "Para un número complejo dado:\n",
    "- Calcular su módulo.\n",
    "- Calcular su argumento (en radianes y grados).\n",
    "- Escribir su forma trigonométrica.\n",
    "\n",
    "### Actividad 7\n",
    "**Representación grafica**\n",
    "\n",
    "De la guía de ejercicios prácticos realice el punto 6.\n",
    "a) Realice las operaciones de forma manual y el procedimiento utilizando un cuaderno Jupyter.\n",
    "b) Realice la gráfica de los números con el resultado de la operación, dar formato a los ejes e indicar con los títulos la referencia a los ejercicios.\n",
    "\n",
    "### Actividad 8\n",
    "**Potencia en forma polar**\n",
    "\n",
    "Implementar el teorema de De Moivre para calcular 𝑧 𝑛 usando la forma polar del número complejo.\n",
    "\n",
    "### Actividad 9\n",
    "**Raíces n-ésimas de un número complejo**\n",
    "\n",
    "Dado un número complejo z y un entero n, calcular las n raíces de z y graficarlas en el plano complejo.\n",
    "\n",
    "### Actividad 10\n",
    "**Sistemas de ecuaciones**\n",
    "\n",
    "Resolver los sistemas de ecuaciones del punto 16 y realizar la comprobación en un cuaderno Jupyter."
   ]
  }
 ],
 "metadata": {
  "colab": {
   "provenance": []
  },
  "jupytext": {
   "main_language": "python"
  },
  "kernelspec": {
   "display_name": "Python 3",
   "name": "python3"
  },
  "language_info": {
   "name": "python"
  }
 },
 "nbformat": 4,
 "nbformat_minor": 0
}
