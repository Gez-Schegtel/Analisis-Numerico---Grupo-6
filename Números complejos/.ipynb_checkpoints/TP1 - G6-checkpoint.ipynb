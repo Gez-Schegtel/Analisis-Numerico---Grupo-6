{
 "cells": [
  {
   "cell_type": "code",
   "execution_count": null,
   "id": "50f524aa-e32a-4a00-b205-f10cb2aa1291",
   "metadata": {},
   "outputs": [],
   "source": []
  }
 ],
 "metadata": {
  "kernelspec": {
   "display_name": "Python (jupyter-notebooks)",
   "language": "python",
   "name": "jupyter-notebooks"
  },
  "language_info": {
   "codemirror_mode": {
    "name": "ipython",
    "version": 3
   },
   "file_extension": ".py",
   "mimetype": "text/x-python",
   "name": "python",
   "nbconvert_exporter": "python",
   "pygments_lexer": "ipython3",
   "version": "3.13.3"
  }
 },
 "nbformat": 4,
 "nbformat_minor": 5
}
