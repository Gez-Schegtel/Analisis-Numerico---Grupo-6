{
 "cells": [
  {
   "cell_type": "markdown",
   "id": "7ea539bf-437d-4595-93c0-d3568b11ed5a",
   "metadata": {},
   "source": [
    "# Practica N° 1: Números complejos\n",
    "## Análisis Numérico\n",
    "\n",
    "### Objetivos\n",
    "- Aplicar conceptos de números complejos mediante su implementación en Python.\n",
    "- Desarrollar habilidades en la representación, operaciones y transformaciones de números complejos usando herramientas computacionales.\n",
    "- Familiarizarse con el uso de librerías estándar de Python como `cmath`, `matplotlib` y `numpy`.\n",
    "\n",
    "**Tipo de actividad:** grupal.\n",
    "\n",
    "### Formato de entrega:\n",
    "1. Resolvé las actividades propuestas utilizando un cuaderno Jupyter.\n",
    "2. Asegurate de comentar el código con explicaciones claras que permitan comprender cada paso de la resolución.\n",
    "3. Una vez finalizada la práctica, deberán crear un documento complementario que incluya:\n",
    "    a. Nombre de la actividad.\n",
    "    b. Datos completos del grupo (nombres y apellidos de los integrantes).\n",
    "    c. Enlace al cuaderno compartido (asegurarse de que el acceso esté habilitado).\n",
    "4. Subí el documento complementario en la tarea \"Práctica N.º 1: Números complejos\" disponible en el aula virtual."
   ]
  },
  {
   "cell_type": "markdown",
   "id": "30beb7e8-cbe9-4177-9273-dd10b1db4b62",
   "metadata": {},
   "source": [
    "### Consideraciones iniciales:\n",
    "\n",
    "* Los números complejos en Python se representan con una `j` para la parte imaginaria.\n",
    "    * Ejemplo: `3+2j`; `22-3j`; `9j`, etc.\n",
    "* Para seguir con las buenas prácticas de la programación en Python, importamos todas las librerías a utilizar al principio del documento."
   ]
  },
  {
   "cell_type": "code",
   "execution_count": 1,
   "id": "0605d349-12ee-4b2a-a5ce-64fa35521aba",
   "metadata": {},
   "outputs": [],
   "source": [
    "# Importación de librerías.\n",
    "import cmath\n",
    "import numpy as np\n",
    "import matplotlib.pyplot as plt\n",
    "\n",
    "# Configuración para que los gráficos de Matplotlib se vean mejor\n",
    "plt.style.use(\"seaborn-v0_8-whitegrid\")\n",
    "\n"
   ]
  },
  {
   "cell_type": "code",
   "execution_count": 2,
   "id": "ea0b99ab-0b46-4d36-ba64-755be3297fea",
   "metadata": {},
   "outputs": [],
   "source": [
    "def entrada_complejo() -> complex:\n",
    "    # ~~~ Esta función devuelve un número complejo a partir del input del usuario. ~~~ #\n",
    "    while True:\n",
    "        try:\n",
    "            numero_complejo = complex(\n",
    "                input(\n",
    "                    \"Ingresá un número complejo para su análisis, con una letra j al final para indicar la parte imaginaria: \"\n",
    "                ).replace(\" \", \"\")\n",
    "            )\n",
    "            break\n",
    "        except ValueError:\n",
    "            print(\n",
    "                \"El formato de entrada no es válido. El la forma aceptada para los números complejos es del tipo <a + bj>.\"\n",
    "            )\n",
    "    return numero_complejo\n",
    "\n"
   ]
  },
  {
   "cell_type": "markdown",
   "id": "6d001390-327e-4325-9940-46a1d753e1cd",
   "metadata": {},
   "source": [
    "### Actividad 1\n",
    "**Representación binómica y partes de un complejo**\n",
    "\n",
    "Escribir un programa que, dado un número complejo z = a + bi, muestre:\n",
    "- Parte real.\n",
    "- Parte imaginaria.\n",
    "- Representación binómica."
   ]
  },
  {
   "cell_type": "code",
   "execution_count": 3,
   "id": "2ef1e560-fee5-4e84-b50d-94e8275f5fce",
   "metadata": {},
   "outputs": [
    {
     "name": "stdin",
     "output_type": "stream",
     "text": [
      "Ingresá un número complejo para su análisis, con una letra j al final para indicar la parte imaginaria:  3+5 j\n"
     ]
    },
    {
     "name": "stdout",
     "output_type": "stream",
     "text": [
      "La parte real del número (3+5j) es 3.0\n",
      "La parte imaginaria del número (3+5j) es 5.0j\n",
      "Representación binómica del número complejo: 3.0 + 5.0j\n"
     ]
    }
   ],
   "source": [
    "z = entrada_complejo()\n",
    "\n",
    "## Extraemos la parte real del número complejo:\n",
    "parte_real = z.real\n",
    "\n",
    "## Extraemos la parte imaginaria del número complejo:\n",
    "parte_imaginaria = z.imag\n",
    "\n",
    "print(f\"La parte real del número {z} es {parte_real}\")\n",
    "print(f\"La parte imaginaria del número {z} es {parte_imaginaria}j\")\n",
    "\n",
    "if parte_imaginaria >= 0:\n",
    "    print(\n",
    "        f\"Representación binómica del número complejo: {parte_real} + {parte_imaginaria}j\"\n",
    "    )\n",
    "else:\n",
    "    print(\n",
    "        f\"Representación binómica del número complejo: {parte_real} - {abs(parte_imaginaria)}j\"\n",
    "    )\n"
   ]
  },
  {
   "cell_type": "markdown",
   "id": "203336be-16a6-4b19-8b0c-6f13bfa059b5",
   "metadata": {},
   "source": [
    "### Actividad 2\n",
    "**Operaciones básicas**\n",
    "\n",
    "Crear una función que reciba dos números complejos y devuelva:\n",
    "- Suma\n",
    "- Resta\n",
    "- Producto\n",
    "- Cociente\n",
    "\n",
    "Mostrar los resultados en consola con formato a + bi."
   ]
  },
  {
   "cell_type": "code",
   "execution_count": 4,
   "id": "ba781041-b32f-4802-af6d-b5b6d5fc04c6",
   "metadata": {},
   "outputs": [
    {
     "name": "stdin",
     "output_type": "stream",
     "text": [
      "Ingresá un número complejo para su análisis, con una letra j al final para indicar la parte imaginaria:  321+4j\n",
      "Ingresá un número complejo para su análisis, con una letra j al final para indicar la parte imaginaria:  320-5j\n"
     ]
    },
    {
     "name": "stdout",
     "output_type": "stream",
     "text": [
      "(321+4j) + (320-5j) = (641-1j)\n",
      "(321+4j) - (320-5j) = (1+9j)\n",
      "(321+4j) * (320-5j) = (102740-325j)\n",
      "(321+4j) / (320-5j) = (1.0026848913839395+0.028166951427874055j)\n"
     ]
    }
   ],
   "source": [
    "z1 = entrada_complejo()\n",
    "z2 = entrada_complejo()\n",
    "\n",
    "print(f\"{z1} + {z2} = {z1 + z2}\")\n",
    "print(f\"{z1} - {z2} = {z1 - z2}\")\n",
    "print(f\"{z1} * {z2} = {z1 * z2}\")\n",
    "print(f\"{z1} / {z2} = {z1 / z2}\")\n"
   ]
  },
  {
   "cell_type": "markdown",
   "id": "8cbca2da-6c2e-4ffc-9283-f4487f9fa52e",
   "metadata": {},
   "source": [
    "### Actividad 3\n",
    "**Potencias de i**\n",
    "\n",
    "Construir una función que calcule 𝑖^𝑛 para un valor entero n ingresado por el usuario. Mostrar el resultado simplificado."
   ]
  },
  {
   "cell_type": "code",
   "execution_count": 6,
   "id": "2e047e6a-341c-4b0e-b414-b0ae9c1007fe",
   "metadata": {},
   "outputs": [
    {
     "name": "stdout",
     "output_type": "stream",
     "text": [
      "Vamos a elevar el número complejo 1j a la potencia ingresada por el usuario.\n"
     ]
    },
    {
     "name": "stdin",
     "output_type": "stream",
     "text": [
      "Ingresá el valor de la potencia:  2\n"
     ]
    },
    {
     "name": "stdout",
     "output_type": "stream",
     "text": [
      "1j^2 = (-1+0j)\n"
     ]
    }
   ],
   "source": [
    "i = 1j\n",
    "n = int(input(\"Ingrese la potencia a la que quiere elevar el número imaginario i.\"))\n",
    "\n",
    "potencia_i = i**n\n",
    "if potencia_i.real != 0:\n",
    "    print(int(potencia_i.real))\n",
    "else:\n",
    "    print(str(int(potencia_i.imag)).replace(\"1\", \"j\"))\n"
   ]
  },
  {
   "cell_type": "markdown",
   "id": "daf77685-f529-468b-82c5-794a735e4857",
   "metadata": {},
   "source": [
    "### Actividad 4\n",
    "**Módulo y conjugado**\n",
    "\n",
    "Dado un número complejo z, calcular:\n",
    "- Su módulo.\n",
    "- Su conjugado.\n",
    "- Verificar que `z * z̄ = |z|²`."
   ]
  },
  {
   "cell_type": "code",
   "execution_count": 9,
   "id": "752d238d-225e-4189-974b-13110075526a",
   "metadata": {},
   "outputs": [
    {
     "name": "stdin",
     "output_type": "stream",
     "text": [
      "Ingresá un número complejo para su análisis, con una letra j al final para indicar la parte imaginaria:  3+4j\n"
     ]
    },
    {
     "name": "stdout",
     "output_type": "stream",
     "text": [
      "|(3+4j)| = 5.0\n",
      "Conjugado de (3+4j): (3-4j)\n",
      "Verificamos la propiedad z * z̄ = |z|²: (25+0j) = 25.0\n"
     ]
    }
   ],
   "source": [
    "z = entrada_complejo()\n",
    "modulo_z = abs(z)\n",
    "conjugado_z = z.conjugate()\n",
    "\n",
    "print(f\"Módulo de {z} = |{z}| = {modulo_z}\")\n",
    "print(f\"Conjugado de {z}: {conjugado_z}\")\n",
    "print(f\"Verificamos la propiedad z * z̄ = |z|²: {z * conjugado_z} = {modulo_z**2}\")\n"
   ]
  },
  {
   "cell_type": "markdown",
   "id": "c3f2851d-d72f-4851-b818-b0510a433575",
   "metadata": {},
   "source": [
    "### Actividad 5\n",
    "**División entre números complejos**\n",
    "\n",
    "Implementar una función que divida dos números complejos sin usar el operador '/', utilizando la fórmula de conjugado y módulo.\n",
    "\n",
    "**Recordá que la fórmula para la división es la siguiente:**\n",
    "\n",
    "$$ \\frac{z}{w} = zw^{-1} = z \\frac{\\bar{w}}{|w|^2} $$"
   ]
  },
  {
   "cell_type": "code",
   "execution_count": null,
   "id": "7790d615-e3ab-4ac4-96df-bcb910902da1",
   "metadata": {},
   "outputs": [],
   "source": [
    "z = entrada_complejo()\n",
    "w = entrada_complejo()\n",
    "\n",
    "conjugado_w = w.conjugate()\n",
    "\n",
    "division_formula = z * conjugado_w / abs(w) ** 2\n",
    "\n",
    "print(f\"\"\"\"División con la fórmula \"tradicional\": {division_formula}\"\"\")\n",
    "print(f\"\"\"División utilizando el operador \"/\": {z / w}\"\"\")\n",
    "\n"
   ]
  },
  {
   "cell_type": "markdown",
   "id": "2486255f-cf9d-4fef-a58f-b724b4874b37",
   "metadata": {},
   "source": [
    "### Actividad 6\n",
    "**Forma polar y trigonométrica**\n",
    "\n",
    "Para un número complejo dado:\n",
    "- Calcular su módulo.\n",
    "- Calcular su argumento (en radianes y grados).\n",
    "- Escribir su forma trigonométrica.\n",
    "\n",
    "**Recordar que la forma trigonométrica es la siguiente:**\n",
    "\n",
    "$$ z = r(\\cos \\theta + i \\sin \\theta) $$"
   ]
  },
  {
   "cell_type": "code",
   "execution_count": 17,
   "id": "bc394a5f-8d62-4399-920a-7107db4c04b9",
   "metadata": {},
   "outputs": [
    {
     "name": "stdin",
     "output_type": "stream",
     "text": [
      "Ingresá un número complejo para su análisis, con una letra j al final para indicar la parte imaginaria:  3+4j\n"
     ]
    },
    {
     "name": "stdout",
     "output_type": "stream",
     "text": [
      "El número complejo en su forma trigonométrica es: 5.0 * (cos(53.1301.) + i * sen(53.1301))\n"
     ]
    }
   ],
   "source": [
    "## Opción 1: Calculamos el módulo y el argumento del número complejo con una sola función, al mismo tiempo.\n",
    "z = entrada_complejo()\n",
    "\n",
    "# Esta función de math nos devuelve una tupla con el módulo y el argumento. Equivalente a (abs(z), phase(z))\n",
    "mod, ang_rad = cmath.polar(z)\n",
    "\n",
    "ang_deg = np.degrees(ang_rad)\n",
    "\n",
    "print(\n",
    "    f\"El número complejo en su forma trigonométrica es: {mod} * (cos({ang_deg:.4f}.) + i * sen({ang_deg:.4f}))\"\n",
    ")\n"
   ]
  },
  {
   "cell_type": "code",
   "execution_count": 16,
   "id": "51dc643d-6426-4399-8124-e4636d7a07f5",
   "metadata": {},
   "outputs": [
    {
     "name": "stdin",
     "output_type": "stream",
     "text": [
      "Ingresá un número complejo para su análisis, con una letra j al final para indicar la parte imaginaria:  3+4j\n"
     ]
    },
    {
     "name": "stdout",
     "output_type": "stream",
     "text": [
      "El número complejo en su forma trigonométrica es: 5.0 * (cos(53.1301) + i * sen(53.1301))\n"
     ]
    }
   ],
   "source": [
    "## Opción 2: Calculamos el módulo y el argumento por separado.\n",
    "z = entrada_complejo()\n",
    "\n",
    "mod = abs(z)\n",
    "ang_rad = cmath.phase(z)  # Al argumento se lo conoce también como fase.\n",
    "ang_deg = np.degrees(ang_rad)\n",
    "\n",
    "print(\n",
    "    f\"El número complejo en su forma trigonométrica es: {mod} * (cos({ang_deg:.4f}) + i * sen({ang_deg:.4f}))\"\n",
    ")\n"
   ]
  },
  {
   "cell_type": "markdown",
   "id": "bbc7e6e3-b7a8-4ee5-921e-83c8580588d4",
   "metadata": {},
   "source": [
    "### Actividad 7\n",
    "**Representación grafica**\n",
    "\n",
    "De la guía de ejercicios prácticos realice el punto 6:\n",
    "\n",
    "> 6. Sean $z_1 = 4 - 3i$ y $z_2 = -1 + 2i$. Obtenga gráfica y analíticamente.\n",
    ">    \n",
    ">    a) $|z_1 + z_2|$,\n",
    ">    \n",
    ">    b) $|z_1 - z_2|$,\n",
    ">    \n",
    ">    c) $\\bar{z}_1 - \\bar{z}_2$ y\n",
    ">    \n",
    ">    d) $|2\\bar{z}_1 - 3\\bar{z}_2 - 2|$.\n",
    "\n",
    "* Realice las operaciones de forma manual y el procedimiento utilizando un cuaderno Jupyter.\n",
    "* Realice la gráfica de los números con el resultado de la operación, dar formato a los ejes e indicar con los títulos la referencia a los ejercicios.\n",
    "\n",
    "> Para facilitar la lectura del código, vamos a definir primero la función que nos permite realizar los gráficos para los distintos puntos. También se definen los números del enunciado."
   ]
  },
  {
   "cell_type": "code",
   "execution_count": null,
   "id": "67384e5c-4675-400b-83f7-639fe074da86",
   "metadata": {},
   "outputs": [],
   "source": [
    "# ~~~ Definición de los números complejos iniciales ~~~ #\n",
    "z1 = 4 - 3j\n",
    "z2 = -1 + 2j\n",
    "\n",
    "print(f\"Número z1: {z1}\")\n",
    "print(f\"Número z2: {z2}\")\n",
    "\n",
    "\n",
    "# ~~~ Función auxiliar para graficar ~~~ #\n",
    "def graficar_complejos(complejos: dict, titulo: str, vectores_origen_cero=True):\n",
    "    \"\"\"\n",
    "    Grafica una colección de números complejos como vectores en el plano.\n",
    "\n",
    "    Args:\n",
    "        complejos (dict): Diccionario {etiqueta: número_complejo}.\n",
    "        titulo (str): Título del gráfico.\n",
    "        vectores_origen_cero (bool): Si es True, todos los vectores parten de (0,0).\n",
    "    \"\"\"\n",
    "    fig, ax = plt.subplots(figsize=(8, 8))\n",
    "    max_val = 0\n",
    "\n",
    "    # Dibuja cada vector y su etiqueta\n",
    "    for label, z in complejos.items():\n",
    "        ax.arrow(\n",
    "            0,\n",
    "            0,\n",
    "            z.real,\n",
    "            z.imag,\n",
    "            head_width=0.2,\n",
    "            head_length=0.3,\n",
    "            fc=\"blue\",\n",
    "            ec=\"blue\",\n",
    "            label=label,\n",
    "        )\n",
    "        ax.text(\n",
    "            z.real * 1.1,\n",
    "            z.imag * 1.15,\n",
    "            f\"{label} = ({z.real:.1f}, {z.imag:.1f}i)\",\n",
    "            fontsize=12,\n",
    "        )\n",
    "        max_val = max(max_val, abs(z.real), abs(z.imag))\n",
    "\n",
    "    # Formato del gráfico\n",
    "    ax.set_title(titulo, fontsize=16)\n",
    "    ax.set_xlabel(\"Eje Real\", fontsize=12)\n",
    "    ax.set_ylabel(\"Eje Imaginario\", fontsize=12)\n",
    "    ax.axhline(0, color=\"grey\", lw=1)\n",
    "    ax.axvline(0, color=\"grey\", lw=1)\n",
    "    ax.grid(True, linestyle=\"--\", alpha=0.6)\n",
    "\n",
    "    # Asegurar que el gráfico sea cuadrado y centrado\n",
    "    limit = max_val + 2\n",
    "    ax.set_xlim(-limit, limit)\n",
    "    ax.set_ylim(-limit, limit)\n",
    "    ax.set_aspect(\"equal\", adjustable=\"box\")\n",
    "\n",
    "    plt.show()\n",
    "\n"
   ]
  },
  {
   "cell_type": "markdown",
   "id": "15963d86-5783-4638-b0a0-fe5ef518925a",
   "metadata": {},
   "source": [
    "**a) $|z_1 + z_2|$**\n",
    "\n",
    "**Resolución Analítica (Manual y con Python):**\n",
    "\n",
    "1.  **Suma de los complejos:**\n",
    "    $z_1 + z_2 = (4 - 3i) + (-1 + 2i)$\n",
    "    $z_1 + z_2 = (4 - 1) + (-3 + 2)i$\n",
    "    $z_1 + z_2 = 3 - 1i$\n",
    "\n",
    "2.  **Cálculo del módulo:**\n",
    "    $|z_1 + z_2| = |3 - i| = \\sqrt{3^2 + (-1)^2}$\n",
    "    $|z_1 + z_2| = \\sqrt{9 + 1} = \\sqrt{10}$\n",
    "\n",
    "Ahora, realizamos el mismo cálculo con Python."
   ]
  },
  {
   "cell_type": "code",
   "execution_count": null,
   "id": "c9f373f6-fd0b-4856-ac57-4b9f265bc0fc",
   "metadata": {},
   "outputs": [],
   "source": [
    "# 1. Sumar los números complejos\n",
    "z_suma = z1 + z2\n",
    "\n",
    "# 2. Calcular el módulo del resultado\n",
    "modulo_suma = abs(z_suma)\n",
    "\n",
    "print(f\"Paso 1: z1 + z2 = ({z1}) + ({z2}) = {z_suma}\")\n",
    "print(f\"Paso 2: |{z_suma}| = {modulo_suma:.4f}\")\n",
    "print(f\"El valor de sqrt(10) es: {np.sqrt(10):.4f}\")\n"
   ]
  },
  {
   "cell_type": "markdown",
   "id": "23fb3795-d184-4ca5-86cd-c395f492ca45",
   "metadata": {},
   "source": [
    "**Representación Gráfica:**\n",
    "\n",
    "La suma de dos vectores complejos puede visualizarse con la \"regla del paralelogramo\". El vector resultante `z_suma` es la diagonal del paralelogramo formado por `z1` y `z2`.\n"
   ]
  },
  {
   "cell_type": "code",
   "execution_count": null,
   "id": "b0b626b6-ab31-42e5-a893-ac755efd6243",
   "metadata": {},
   "outputs": [],
   "source": [
    "# Diccionario de complejos a graficar\n",
    "a_graficar = {\"z1\": z1, \"z2\": z2, \"z1 + z2\": z_suma}\n",
    "\n",
    "graficar_complejos(a_graficar, titulo=\"a) Suma: |z1 + z2|\")\n"
   ]
  },
  {
   "cell_type": "markdown",
   "id": "ab93d1de-17e9-45c8-a856-8e999750351f",
   "metadata": {},
   "source": [
    "**b) $|z_1 - z_2|$**\n",
    "\n",
    "**Resolución Analítica (Manual y con Python):**\n",
    "\n",
    "1.  **Resta de los complejos:**\n",
    "    $z_1 - z_2 = (4 - 3i) - (-1 + 2i)$\n",
    "    $z_1 - z_2 = (4 - (-1)) + (-3 - 2)i$\n",
    "    $z_1 - z_2 = 5 - 5i$\n",
    "\n",
    "2.  **Cálculo del módulo:**\n",
    "    $|z_1 - z_2| = |5 - 5i| = \\sqrt{5^2 + (-5)^2}$\n",
    "    $|z_1 - z_2| = \\sqrt{25 + 25} = \\sqrt{50} = 5\\sqrt{2}$\n",
    "\n",
    "Ahora, con Python:\n"
   ]
  },
  {
   "cell_type": "code",
   "execution_count": null,
   "id": "60db4d6a-d2de-4b1c-8578-35bbc979959d",
   "metadata": {},
   "outputs": [],
   "source": [
    "# 1. Restar los números complejos\n",
    "z_resta = z1 - z2\n",
    "\n",
    "# 2. Calcular el módulo del resultado\n",
    "modulo_resta = abs(z_resta)\n",
    "\n",
    "print(f\"Paso 1: z1 - z2 = ({z1}) - ({z2}) = {z_resta}\")\n",
    "print(f\"Paso 2: |{z_resta}| = {modulo_resta:.4f}\")\n",
    "print(f\"El valor de 5*sqrt(2) es: {5 * np.sqrt(2):.4f}\")\n"
   ]
  },
  {
   "cell_type": "markdown",
   "id": "24d4e657-7dd2-47c9-be1a-4de088fa1331",
   "metadata": {},
   "source": [
    "**Representación Gráfica:**\n",
    "\n",
    "La resta $z_1 - z_2$ es equivalente a la suma $z_1 + (-z_2)$. El vector resultante `z_resta` puede verse como la diagonal del paralelogramo formado por `z1` y `-z2`. Gráficamente, el vector `z1 - z2` es el vector que une la punta de `z2` con la punta de `z1`."
   ]
  },
  {
   "cell_type": "code",
   "execution_count": null,
   "id": "29d7bae2-1de3-41bf-a35e-909143ab4467",
   "metadata": {},
   "outputs": [],
   "source": [
    "# Diccionario de complejos a graficar\n",
    "b_graficar = {\"z1\": z1, \"z2\": z2, \"z1 - z2\": z_resta}\n",
    "\n",
    "graficar_complejos(b_graficar, titulo=\"b) Resta: |z1 - z2|\")\n"
   ]
  },
  {
   "cell_type": "markdown",
   "id": "48c2c02c-d0c9-46a2-965e-b4a9c89b70d6",
   "metadata": {},
   "source": [
    "**c) $\\bar{z}_1 - \\bar{z}_2$**\n",
    "\n",
    "**Resolución Analítica (Manual y con Python):**\n",
    "\n",
    "1.  **Calcular los conjugados:**\n",
    "    $\\bar{z}_1 = \\overline{4 - 3i} = 4 + 3i$\n",
    "    $\\bar{z}_2 = \\overline{-1 + 2i} = -1 - 2i$\n",
    "\n",
    "2.  **Restar los conjugados:**\n",
    "    $\\bar{z}_1 - \\bar{z}_2 = (4 + 3i) - (-1 - 2i)$\n",
    "    $\\bar{z}_1 - \\bar{z}_2 = (4 - (-1)) + (3 - (-2))i$\n",
    "    $\\bar{z}_1 - \\bar{z}_2 = 5 + 5i$\n",
    "\n",
    "Ahora, con Python:"
   ]
  },
  {
   "cell_type": "code",
   "execution_count": null,
   "id": "4ad9b407-8045-4efc-a570-e40d8d77afdb",
   "metadata": {},
   "outputs": [],
   "source": [
    "# 1. Calcular los conjugados\n",
    "z1_conj = z1.conjugate()\n",
    "z2_conj = z2.conjugate()\n",
    "\n",
    "# 2. Restar los conjugados\n",
    "resultado_c = z1_conj - z2_conj\n",
    "\n",
    "print(f\"Paso 1: z1_conj = {z1_conj}, z2_conj = {z2_conj}\")\n",
    "print(f\"Paso 2: z1_conj - z2_conj = ({z1_conj}) - ({z2_conj}) = {resultado_c}\")\n"
   ]
  },
  {
   "cell_type": "markdown",
   "id": "31993336-98ff-4ace-acc1-7a972eb4b141",
   "metadata": {},
   "source": [
    "**Representación Gráfica:**\n",
    "\n",
    "Graficamos los vectores de los conjugados, $\\bar{z}_1$ y $\\bar{z}_2$, y el vector resultante de su resta. El conjugado de un número es su reflejo a través del eje real.\n",
    "\n"
   ]
  },
  {
   "cell_type": "code",
   "execution_count": null,
   "id": "7f99b0f6-129d-4006-ad34-d516a41f3969",
   "metadata": {},
   "outputs": [],
   "source": [
    "# Diccionario de complejos a graficar\n",
    "c_graficar = {\"z1_conj\": z1_conj, \"z2_conj\": z2_conj, \"resultado\": resultado_c}\n",
    "\n",
    "graficar_complejos(c_graficar, titulo=\"c) Resta de Conjugados\")\n"
   ]
  },
  {
   "cell_type": "markdown",
   "id": "b06ac4d7-ed12-4d41-878b-df05b08d1612",
   "metadata": {},
   "source": [
    "\n",
    "**d) $|2\\bar{z}_1 - 3\\bar{z}_2 - 2|$**\n",
    "\n",
    "**Resolución Analítica (Manual y con Python):**\n",
    "\n",
    "1.  **Calcular los conjugados y múltiplos:**\n",
    "    $2\\bar{z}_1 = 2(4 + 3i) = 8 + 6i$\n",
    "    $3\\bar{z}_2 = 3(-1 - 2i) = -3 - 6i$\n",
    "\n",
    "2.  **Realizar la operación completa:**\n",
    "    $2\\bar{z}_1 - 3\\bar{z}_2 - 2 = (8 + 6i) - (-3 - 6i) - 2$\n",
    "    $= (8 - (-3) - 2) + (6 - (-6))i$\n",
    "    $= (8 + 3 - 2) + (6 + 6)i$\n",
    "    $= 9 + 12i$\n",
    "\n",
    "3.  **Calcular el módulo:**\n",
    "    $|9 + 12i| = \\sqrt{9^2 + 12^2} = \\sqrt{81 + 144} = \\sqrt{225} = 15$\n",
    "\n",
    "Ahora, con Python:\n"
   ]
  },
  {
   "cell_type": "code",
   "execution_count": null,
   "id": "dce0d95e-7e34-410d-a17d-2cc6a98db58d",
   "metadata": {},
   "outputs": [],
   "source": [
    "# Los conjugados z1_conj y z2_conj ya fueron calculados.\n",
    "\n",
    "# 1. Realizar la operación completa\n",
    "resultado_d = 2 * z1_conj - 3 * z2_conj - 2\n",
    "\n",
    "# 2. Calcular el módulo\n",
    "modulo_d = abs(resultado_d)\n",
    "\n",
    "print(f\"Paso 1: 2*z1_conj = {2 * z1_conj}\")\n",
    "print(f\"Paso 2: 3*z2_conj = {3 * z2_conj}\")\n",
    "print(f\"Paso 3: (2*z1_conj) - (3*z2_conj) - 2 = {resultado_d}\")\n",
    "print(f\"Paso 4: |{resultado_d}| = {modulo_d}\")\n"
   ]
  },
  {
   "cell_type": "markdown",
   "id": "c35dc9bd-fd93-45f5-9d59-3f592a1ea545",
   "metadata": {},
   "source": [
    "**Representación Gráfica:**\n",
    "\n",
    "Para visualizar esta operación, graficaremos los vectores intermedios ($2\\bar{z}_1$ y $-3\\bar{z}_2 - 2$) y el vector resultante final.\n"
   ]
  },
  {
   "cell_type": "code",
   "execution_count": null,
   "id": "d858f854-6241-4080-bff8-485f58f2862c",
   "metadata": {},
   "outputs": [],
   "source": [
    "# Vectores intermedios\n",
    "v1 = 2 * z1_conj\n",
    "v2 = -3 * z2_conj - 2\n",
    "resultado_d = v1 + v2\n",
    "\n",
    "# Diccionario de complejos a graficar\n",
    "d_graficar = {\"2*z1_conj\": v1, \"-3*z2_conj - 2\": v2, \"Resultado\": resultado_d}\n",
    "\n",
    "graficar_complejos(d_graficar, titulo=\"d) Operación Combinada\")\n",
    "\n"
   ]
  },
  {
   "cell_type": "markdown",
   "id": "9f6588e9-fb40-4862-be91-ab6256b132ee",
   "metadata": {},
   "source": [
    "### Actividad 8\n",
    "**Potencia en forma polar**\n",
    "\n",
    "Implementar el teorema de De Moivre para calcular 𝑧 𝑛 usando la forma polar del número complejo."
   ]
  },
  {
   "cell_type": "markdown",
   "id": "124329b2-a205-4437-a6a0-f97d5039a5ff",
   "metadata": {},
   "source": [
    "### Actividad 9\n",
    "**Raíces n-ésimas de un número complejo**\n",
    "\n",
    "Dado un número complejo z y un entero n, calcular las n raíces de z y graficarlas en el plano complejo."
   ]
  },
  {
   "cell_type": "markdown",
   "id": "86d37700-cd05-463a-8b27-07613dacbd36",
   "metadata": {},
   "source": [
    "### Actividad 10\n",
    "**Sistemas de ecuaciones**\n",
    "\n",
    "Resolver los sistemas de ecuaciones del punto 16 y realizar la comprobación en un cuaderno Jupyter."
   ]
  }
 ],
 "metadata": {
  "kernelspec": {
   "display_name": "Python (jupyter-notebooks)",
   "language": "python",
   "name": "jupyter-notebooks"
  },
  "language_info": {
   "codemirror_mode": {
    "name": "ipython",
    "version": 3
   },
   "file_extension": ".py",
   "mimetype": "text/x-python",
   "name": "python",
   "nbconvert_exporter": "python",
   "pygments_lexer": "ipython3",
   "version": "3.13.3"
  }
 },
 "nbformat": 4,
 "nbformat_minor": 5
}
